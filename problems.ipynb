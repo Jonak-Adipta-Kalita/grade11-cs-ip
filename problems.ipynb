{
 "cells": [
  {
   "cell_type": "markdown",
   "metadata": {},
   "source": [
    "# Problem Statements\n",
    "\n",
    "These are some problems that comes in handy. Mostly uses logic."
   ]
  },
  {
   "cell_type": "markdown",
   "metadata": {},
   "source": [
    "## Fibonacci Series"
   ]
  },
  {
   "cell_type": "code",
   "execution_count": null,
   "metadata": {},
   "outputs": [
    {
     "name": "stdout",
     "output_type": "stream",
     "text": [
      "1\n",
      "2\n",
      "3\n",
      "5\n",
      "8\n",
      "13\n",
      "21\n",
      "34\n",
      "55\n",
      "89\n"
     ]
    }
   ],
   "source": [
    "# init the first two numbers\n",
    "a = 0\n",
    "b = 1\n",
    "\n",
    "new = 0\n",
    "\n",
    "for i in range(10):\n",
    "    new = a+b # F(new) = F(n-1) + F(n-2)\n",
    "    print(new)\n",
    "    a, b = b, new \n",
    "    # swap the numbers so that it progresses. 0 becomes 1, 1 becomes 2 and so on."
   ]
  },
  {
   "cell_type": "code",
   "execution_count": null,
   "metadata": {},
   "outputs": [
    {
     "name": "stdout",
     "output_type": "stream",
     "text": [
      "[0, 1, 1, 2, 3, 5, 8, 13, 21, 34, 55, 89, 144, 233, 377, 610, 987, 1597, 2584]\n"
     ]
    }
   ],
   "source": [
    "def fibo(n):\n",
    "    if n in (0, 1):\n",
    "        return n\n",
    "    return fibo(n-1) + fibo(n-2)\n",
    "\n",
    "print([fibo(i) for i in range(19)])"
   ]
  },
  {
   "cell_type": "markdown",
   "metadata": {},
   "source": [
    "## Find if Prime"
   ]
  },
  {
   "cell_type": "markdown",
   "metadata": {},
   "source": [
    "First method is the Sieve of Eratosthenes:\n",
    "\n",
    "This is very inefficient as compared to the second method."
   ]
  },
  {
   "cell_type": "code",
   "execution_count": null,
   "metadata": {},
   "outputs": [
    {
     "name": "stdout",
     "output_type": "stream",
     "text": [
      "not prime\n",
      "CPU times: user 47 μs, sys: 0 ns, total: 47 μs\n",
      "Wall time: 49.4 μs\n"
     ]
    }
   ],
   "source": [
    "%%time\n",
    "def prime(n):\n",
    "    sep = (2, 3, 5, 7, 11, 13, 17) # using lists will be slower\n",
    "    if 0 in [n % i for i in sep]:\n",
    "        print('not prime')\n",
    "    else:\n",
    "        print(\"prime\")\n",
    "\n",
    "\n",
    "prime(60342232138)  "
   ]
  },
  {
   "cell_type": "markdown",
   "metadata": {},
   "source": [
    "Second method is trying to find `num % i` for every `i` till `num`. "
   ]
  },
  {
   "cell_type": "code",
   "execution_count": null,
   "metadata": {},
   "outputs": [
    {
     "name": "stdout",
     "output_type": "stream",
     "text": [
      "not prime\n",
      "CPU times: user 91 μs, sys: 0 ns, total: 91 μs\n",
      "Wall time: 84.9 μs\n"
     ]
    }
   ],
   "source": [
    "%%time\n",
    "def prime_while(num):\n",
    "    i = 2\n",
    "\n",
    "    while i < num:\n",
    "        if num % i == 0:\n",
    "            break\n",
    "        i +=1\n",
    "\n",
    "    print(\"not prime\") if i < num else print(\"prime\")\n",
    "\n",
    "prime_while(60342232138)"
   ]
  },
  {
   "cell_type": "markdown",
   "metadata": {},
   "source": [
    "## Finding number of strings, digits, char, etc."
   ]
  },
  {
   "cell_type": "markdown",
   "metadata": {},
   "source": [
    "I have certain string `colemak@459!!!`\n",
    "\n",
    "I want to find:\n",
    "- special characters (specified)\n",
    "- char\n",
    "- digits"
   ]
  },
  {
   "cell_type": "code",
   "execution_count": null,
   "metadata": {},
   "outputs": [
    {
     "name": "stdout",
     "output_type": "stream",
     "text": [
      "7 3 4\n"
     ]
    }
   ],
   "source": [
    "string = 'colemak@459!!!'\n",
    "\n",
    "count_digit = 0\n",
    "count_char = 0\n",
    "count_special = 0\n",
    "\n",
    "for i in string:\n",
    "    if i.isdigit():\n",
    "        count_digit += 1\n",
    "    elif i in (\"@\", \"!\"):\n",
    "        count_special += 1\n",
    "    else:\n",
    "        count_char += 1\n",
    "\n",
    "print(count_char, count_digit, count_special)"
   ]
  },
  {
   "cell_type": "markdown",
   "metadata": {},
   "source": [
    "## Dictionary of a string and corresponding index\n",
    "Write a python program to create a dictionary from a string `‘w3resource’` such that each individual character makes a key and its index value for first occurrence makes the corresponding value in dictionary.\n",
    "\n",
    "e.g. `{‘w’:0,’3’:1,’r’:2,’e’:3,’s’:4,’o’:5,’u’:6,’c’:8}`"
   ]
  },
  {
   "cell_type": "code",
   "execution_count": 10,
   "metadata": {},
   "outputs": [
    {
     "name": "stdout",
     "output_type": "stream",
     "text": [
      "{'w': 0, '3': 1, 'r': 2, 'e': 3, 's': 4, 'o': 5, 'u': 6, 'c': 8}\n"
     ]
    }
   ],
   "source": [
    "w = 'w3resource'\n",
    "\n",
    "my_dic = {}\n",
    "count = 0\n",
    "for i in w:\n",
    "    if i not in my_dic.keys():\n",
    "        my_dic[i] = count\n",
    "    count +=1\n",
    "\n",
    "print(my_dic)"
   ]
  },
  {
   "cell_type": "markdown",
   "metadata": {},
   "source": [
    "## Loop Pattern\n",
    "Write the program to print the following pattern using loops only.\n",
    "```\n",
    "1\n",
    "1 2\n",
    "1 2 3\n",
    "1 2 3 4\n",
    "```"
   ]
  },
  {
   "cell_type": "code",
   "execution_count": 48,
   "metadata": {},
   "outputs": [
    {
     "name": "stdout",
     "output_type": "stream",
     "text": [
      "\n",
      "\n",
      "1 \n",
      "1 2 \n",
      "1 2 3 \n",
      "1 2 3 4 "
     ]
    }
   ],
   "source": [
    "for e in range(1, 6):\n",
    "    # print(e)\n",
    "    print(\"\")\n",
    "    for i in range(1, e):\n",
    "        print(i, end=\" \")\n",
    "    "
   ]
  },
  {
   "cell_type": "markdown",
   "metadata": {},
   "source": [
    "## Palindrome\n",
    "\n",
    "Write a program to take a number from the user and find out whether the entered number is palindrome or not .\n",
    "For example if entered number is 5225 it is palindrome . If you read number from\n",
    "right side it will be same"
   ]
  },
  {
   "cell_type": "code",
   "execution_count": 72,
   "metadata": {},
   "outputs": [
    {
     "name": "stdout",
     "output_type": "stream",
     "text": [
      "nope\n"
     ]
    }
   ],
   "source": [
    "num = \"5226\"\n",
    "\n",
    "list_for_num = [i for i in num]\n",
    "\n",
    "if (list_for_num[::-1]) == list_for_num:\n",
    "    print(\"yep it is a palen\")\n",
    "else:\n",
    "    print(\"nope\")"
   ]
  }
 ],
 "metadata": {
  "kernelspec": {
   "display_name": "Python 3",
   "language": "python",
   "name": "python3"
  },
  "language_info": {
   "codemirror_mode": {
    "name": "ipython",
    "version": 3
   },
   "file_extension": ".py",
   "mimetype": "text/x-python",
   "name": "python",
   "nbconvert_exporter": "python",
   "pygments_lexer": "ipython3",
   "version": "3.12.7"
  }
 },
 "nbformat": 4,
 "nbformat_minor": 2
}
