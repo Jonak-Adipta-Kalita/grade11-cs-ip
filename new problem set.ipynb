{
 "cells": [
  {
   "cell_type": "markdown",
   "id": "270c7728-97d8-4371-9c8a-1bc8acf71483",
   "metadata": {},
   "source": [
    "# New Problem Set\n",
    "I am using this to polish my skills for my annual test. Everything here is pure Python. Not trying to write optimised one-liners because examiners don't know shit about programming."
   ]
  },
  {
   "cell_type": "markdown",
   "id": "b2f04d70-9258-4a19-8e1f-5edf5f3eae42",
   "metadata": {},
   "source": [
    "## Warm Up\n",
    "1. **Simple Calculator** – Write a program that takes two numbers and an operator (+, -, *, /) and performs the operation.\n",
    "2. **Even or Odd** – Write a program that takes an integer input and checks if it is even or odd.\n",
    "3. **Reverse a String** – Ask the user for a string and print its reverse."
   ]
  },
  {
   "cell_type": "code",
   "execution_count": null,
   "id": "ef1eacaa-507b-4da4-8638-2a44f038d233",
   "metadata": {},
   "outputs": [],
   "source": [
    "# 1. Simple Calculator\n",
    "# I am not going to bother"
   ]
  },
  {
   "cell_type": "code",
   "execution_count": 1,
   "id": "f15359db-48eb-477e-b757-16e0f9b5ab12",
   "metadata": {},
   "outputs": [
    {
     "name": "stdout",
     "output_type": "stream",
     "text": [
      "odd\n"
     ]
    }
   ],
   "source": [
    "# 2. Even or Odd\n",
    "n1 = 69\n",
    "\n",
    "if n1 % 2 == 0:\n",
    "    print(\"even\")\n",
    "else:\n",
    "    print(\"odd\")"
   ]
  },
  {
   "cell_type": "code",
   "execution_count": 2,
   "id": "f4be3edb-12c7-43c4-ba01-48d300f47bae",
   "metadata": {},
   "outputs": [
    {
     "name": "stdout",
     "output_type": "stream",
     "text": [
      "dneirf ym era uoy\n"
     ]
    }
   ],
   "source": [
    "# 3. Reverse String\n",
    "s1 = \"you are my friend\"\n",
    "\n",
    "print(s1[::-1])"
   ]
  },
  {
   "cell_type": "markdown",
   "id": "f03361c5-d530-40c6-9afa-cec1b9461e04",
   "metadata": {},
   "source": [
    "## Control Flow (if-else-while)\n",
    "4. Grading System – Take a student's marks as input and print the grade based on the following criteria:\n",
    "```\n",
    "    90+ → A\n",
    "    80-89 → B\n",
    "    70-79 → C\n",
    "    < 70 → Fail\n",
    "\n",
    "   ```\n",
    "\n",
    "5. FizzBuzz – Print numbers from 1 to 50:\n",
    "```\n",
    "    If a number is divisible by 3, print \"Fizz\"\n",
    "    If divisible by 5, print \"Buzz\"\n",
    "    If divisible by both, print \"FizzBuzz\"\n",
    "```\n",
    "\n",
    "6. Sum of Digits – Take an integer and find the sum of its digits.\n",
    "\n",
    "    Example: 234 → 2+3+4 = 9\n",
    "\n",
    "7. Multiplication Table – Take a number n and print its multiplication table up to 10 using a loop."
   ]
  },
  {
   "cell_type": "code",
   "execution_count": 3,
   "id": "24a10d69-aea3-479d-8898-aa3597592fb1",
   "metadata": {},
   "outputs": [
    {
     "name": "stdout",
     "output_type": "stream",
     "text": [
      "F\n"
     ]
    }
   ],
   "source": [
    "# 4. Grading System\n",
    "marks = 9\n",
    "\n",
    "if marks >= 90:\n",
    "    print('A')\n",
    "elif (marks >= 80) and (marks <= 89):\n",
    "    print('B')\n",
    "elif (marks >= 70) and (marks <= 79):\n",
    "    print('C')\n",
    "elif marks < 70:\n",
    "    print('F')"
   ]
  },
  {
   "cell_type": "code",
   "execution_count": 6,
   "id": "0a16208b-d9a3-4962-a127-b75da872ed48",
   "metadata": {},
   "outputs": [
    {
     "name": "stdout",
     "output_type": "stream",
     "text": [
      "fizz\n",
      "buzz\n",
      "fizz\n",
      "fizz\n",
      "buzz\n",
      "fizz\n",
      "fizzbuzz\n",
      "fizz\n",
      "buzz\n",
      "fizz\n",
      "fizz\n",
      "buzz\n",
      "fizz\n",
      "fizzbuzz\n",
      "fizz\n",
      "buzz\n",
      "fizz\n",
      "fizz\n",
      "buzz\n",
      "fizz\n",
      "fizzbuzz\n",
      "fizz\n",
      "buzz\n"
     ]
    }
   ],
   "source": [
    "# 5. fizzbuzz\n",
    "for n in range(1,51):\n",
    "    if (n % 3 == 0) and (n%5 == 0):\n",
    "        print(\"fizzbuzz\")\n",
    "    elif n % 5 == 0:\n",
    "        print('buzz')\n",
    "    elif n % 3 == 0: \n",
    "        print('fizz')"
   ]
  },
  {
   "cell_type": "code",
   "execution_count": 7,
   "id": "f02085ce-5e1e-4575-9ac9-5876a34df1cc",
   "metadata": {},
   "outputs": [
    {
     "name": "stdout",
     "output_type": "stream",
     "text": [
      "16\n"
     ]
    }
   ],
   "source": [
    "# 6. Sum of Digits\n",
    "n2 = 394\n",
    "a = 0\n",
    "for n in str(n2):\n",
    "    a = a + int(n)\n",
    "print(a)"
   ]
  },
  {
   "cell_type": "code",
   "execution_count": 9,
   "id": "14da0ce2-7fa3-40fb-a640-1e62ac63e8b0",
   "metadata": {},
   "outputs": [
    {
     "name": "stdout",
     "output_type": "stream",
     "text": [
      "4\n",
      "8\n",
      "12\n",
      "16\n",
      "20\n",
      "24\n",
      "28\n",
      "32\n",
      "36\n",
      "40\n"
     ]
    }
   ],
   "source": [
    "# 7. Multiplication table\n",
    "n3 = 4\n",
    "for n in range(1, 11):\n",
    "    print(n3*n)"
   ]
  },
  {
   "cell_type": "markdown",
   "id": "ea2e5a68-83b7-4d18-ab50-6957ad3925fe",
   "metadata": {},
   "source": [
    "## Lists and Dictionaries (count out)"
   ]
  },
  {
   "cell_type": "markdown",
   "id": "906dca00-09d3-44fb-b5b2-ab2258dd955e",
   "metadata": {},
   "source": [
    "## Functions and Algorithmic Thinking\n",
    "8. Factorial Calculator – Write a function that calculates the factorial of a number using recursion.\n",
    "\n",
    "9. Check Prime – Write a function that checks if a number is prime or not.\n",
    "\n",
    "10. Palindrome Checker – Write a function that checks if a word is a palindrome (reads the same forward & backward)."
   ]
  },
  {
   "cell_type": "code",
   "execution_count": 12,
   "id": "82bd9e21-cc71-4c20-9daa-315fb48e1647",
   "metadata": {},
   "outputs": [
    {
     "ename": "UnboundLocalError",
     "evalue": "cannot access local variable 'a' where it is not associated with a value",
     "output_type": "error",
     "traceback": [
      "\u001b[0;31m---------------------------------------------------------------------------\u001b[0m",
      "\u001b[0;31mUnboundLocalError\u001b[0m                         Traceback (most recent call last)",
      "Cell \u001b[0;32mIn[12], line 13\u001b[0m\n\u001b[1;32m     10\u001b[0m             \u001b[38;5;28;01mreturn\u001b[39;00m a\n\u001b[1;32m     11\u001b[0m     \u001b[38;5;28;01mreturn\u001b[39;00m fac(n\u001b[38;5;241m-\u001b[39m\u001b[38;5;241m1\u001b[39m) \u001b[38;5;241m+\u001b[39m fac(n\u001b[38;5;241m-\u001b[39m\u001b[38;5;241m2\u001b[39m)\n\u001b[0;32m---> 13\u001b[0m \u001b[43mfac\u001b[49m\u001b[43m(\u001b[49m\u001b[38;5;241;43m5\u001b[39;49m\u001b[43m)\u001b[49m\n",
      "Cell \u001b[0;32mIn[12], line 9\u001b[0m, in \u001b[0;36mfac\u001b[0;34m(n)\u001b[0m\n\u001b[1;32m      7\u001b[0m \u001b[38;5;28;01melse\u001b[39;00m:\n\u001b[1;32m      8\u001b[0m     \u001b[38;5;28;01mfor\u001b[39;00m n \u001b[38;5;129;01min\u001b[39;00m \u001b[38;5;28mrange\u001b[39m(n\u001b[38;5;241m+\u001b[39m\u001b[38;5;241m1\u001b[39m):\n\u001b[0;32m----> 9\u001b[0m         a \u001b[38;5;241m=\u001b[39m \u001b[43ma\u001b[49m\u001b[38;5;241m*\u001b[39mn\n\u001b[1;32m     10\u001b[0m         \u001b[38;5;28;01mreturn\u001b[39;00m a\n\u001b[1;32m     11\u001b[0m \u001b[38;5;28;01mreturn\u001b[39;00m fac(n\u001b[38;5;241m-\u001b[39m\u001b[38;5;241m1\u001b[39m) \u001b[38;5;241m+\u001b[39m fac(n\u001b[38;5;241m-\u001b[39m\u001b[38;5;241m2\u001b[39m)\n",
      "\u001b[0;31mUnboundLocalError\u001b[0m: cannot access local variable 'a' where it is not associated with a value"
     ]
    }
   ],
   "source": [
    "# 8. Factorial Calculator\n",
    "a = 1\n",
    "\n",
    "def fac(n):\n",
    "    if n in (0,1):\n",
    "        pass\n",
    "    else:\n",
    "        for n in range(n+1):\n",
    "            a = a*n\n",
    "            return a\n",
    "    return fac(n-1) + fac(n-2)\n",
    "\n",
    "fac(5) ???"
   ]
  },
  {
   "cell_type": "code",
   "execution_count": 29,
   "id": "672acfe9-2755-4cb3-a71a-95326409587f",
   "metadata": {},
   "outputs": [
    {
     "name": "stdout",
     "output_type": "stream",
     "text": [
      "prime bolte\n"
     ]
    }
   ],
   "source": [
    "# 9. Checking Prime\n",
    "num = 193\n",
    "i = 2\n",
    "while i < num:\n",
    "    if num % i == 0:\n",
    "        break\n",
    "    i +=1\n",
    "\n",
    "if (i == num):\n",
    "    print(\"prime bolte\")"
   ]
  },
  {
   "cell_type": "code",
   "execution_count": 45,
   "id": "0a28f2e5-6964-40a6-9c0d-4b25c9047cec",
   "metadata": {},
   "outputs": [
    {
     "name": "stdout",
     "output_type": "stream",
     "text": [
      "palindrome\n"
     ]
    }
   ],
   "source": [
    "# 10. Palindrome Checker\n",
    "s2 = \"able was I ere I saw elba\"\n",
    "\n",
    "if list(s2) == list(s2)[::-1]:\n",
    "    print(\"palindrome\")"
   ]
  },
  {
   "cell_type": "markdown",
   "id": "f96c74ac-93d5-4869-b311-95c618879381",
   "metadata": {},
   "source": [
    "## Bonus!\n",
    "11. Password Strength Checker – Ask the user for a password and check if it meets the following conditions:\n",
    "```\n",
    "    At least 8 characters long\n",
    "    Contains at least 1 uppercase letter\n",
    "    Contains at least 1 number\n",
    "    Contains at least 1 special character\n",
    "```"
   ]
  },
  {
   "cell_type": "code",
   "execution_count": 68,
   "id": "a08b8b46-01aa-46ae-ade3-1a67e100fa8b",
   "metadata": {},
   "outputs": [
    {
     "name": "stdout",
     "output_type": "stream",
     "text": [
      "everything checks out!\n"
     ]
    }
   ],
   "source": [
    "# 11. Password Strength Checker\n",
    "import string\n",
    "\n",
    "upper = set(string.ascii_uppercase)\n",
    "numbers = set(string.digits)\n",
    "special = set(string.punctuation)\n",
    "\n",
    "p = \"quackbot\"\n",
    "\n",
    "if len(p) >= 8: # length check\n",
    "    if any(p for p in upper):\n",
    "        if any(p for p in numbers):\n",
    "            if any(p for p in special):\n",
    "                print(\"everything checks out!\")\n",
    "            else:\n",
    "                print(\"get a special char in bro\")\n",
    "        else:\n",
    "            print(\"need a number\")\n",
    "    else:\n",
    "        print(\"upperCUT!\")\n",
    "else:\n",
    "    print(\"less than 8 char\")\n"
   ]
  },
  {
   "cell_type": "code",
   "execution_count": null,
   "id": "0f8ccc14-c7a1-40d4-83d8-588b423cab12",
   "metadata": {},
   "outputs": [],
   "source": []
  },
  {
   "cell_type": "code",
   "execution_count": null,
   "id": "7292b340-b2ba-4ee9-a74a-04ce6b509f09",
   "metadata": {},
   "outputs": [],
   "source": []
  }
 ],
 "metadata": {
  "kernelspec": {
   "display_name": "Python 3 (ipykernel)",
   "language": "python",
   "name": "python3"
  },
  "language_info": {
   "codemirror_mode": {
    "name": "ipython",
    "version": 3
   },
   "file_extension": ".py",
   "mimetype": "text/x-python",
   "name": "python",
   "nbconvert_exporter": "python",
   "pygments_lexer": "ipython3",
   "version": "3.13.1"
  }
 },
 "nbformat": 4,
 "nbformat_minor": 5
}
