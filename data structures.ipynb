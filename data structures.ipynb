{
 "cells": [
  {
   "cell_type": "markdown",
   "metadata": {},
   "source": [
    "# Data Structures\n",
    "Data Structures are an organised way to store data, and any relationship between the values.\n",
    "\n",
    "Python has several built-in Data Structures like [List](#list), [Tuple](#tuple), [Dictionary](#dictonary). Each element seperated by a `,`.\n",
    "\n",
    ">**Note for the reader:** As this is a Jupyter Notebook, the variables will be shared across code cells, thus, you should keep in mind that, if the variables are already defined somewhere above, they can be used somewhere below **without** defining them again.\n",
    "\n",
    "### This is incomplete, as of now."
   ]
  },
  {
   "cell_type": "markdown",
   "metadata": {},
   "source": [
    "## Mutability\n",
    "Mutability = \"changeability\"\n",
    "\n",
    "If a D.S is mutable, then it means that it can be changed, or edited. E.g. list and dictionary.\n",
    "\n",
    "If its immutable, then it **cannot** be edited or changed, or **even called**. It likes a simple constant, like a `string`. E.g. Tuple"
   ]
  },
  {
   "cell_type": "markdown",
   "metadata": {},
   "source": [
    "## List\n",
    "- They are mutable data structures.\n",
    "- They are represented by `[ ]`."
   ]
  },
  {
   "cell_type": "code",
   "execution_count": 1,
   "metadata": {},
   "outputs": [
    {
     "name": "stdout",
     "output_type": "stream",
     "text": [
      "[1, 2, 3]\n"
     ]
    }
   ],
   "source": [
    "l = [1, 2, 3] # defining a list\n",
    "print(l)"
   ]
  },
  {
   "cell_type": "markdown",
   "metadata": {},
   "source": [
    "## Tuple\n",
    "- They are **immutable** data structures.\n",
    "- They are represented by `( )`."
   ]
  },
  {
   "cell_type": "code",
   "execution_count": 2,
   "metadata": {},
   "outputs": [
    {
     "name": "stdout",
     "output_type": "stream",
     "text": [
      "(1, 2, 3)\n"
     ]
    }
   ],
   "source": [
    "t = (1, 2, 3) # defining a tuple\n",
    "print(t)"
   ]
  },
  {
   "cell_type": "markdown",
   "metadata": {},
   "source": [
    "## Dictionary\n",
    "- They are mutable data structures.\n",
    "- They are represented by `{ }`.\n",
    "- They exist as \"key-value pairs\". The [indices](#indices) are \"keys\", with corresponding values.\n",
    "\n",
    "Dictionaries can be used to define a \"relationship\" between two things.\n",
    "\n",
    "**Example:**\n",
    "- Iron Man -> Tony Stark\n",
    "- Cap. America -> Steve Rogers."
   ]
  },
  {
   "cell_type": "code",
   "execution_count": 8,
   "metadata": {},
   "outputs": [
    {
     "name": "stdout",
     "output_type": "stream",
     "text": [
      "{'name': 'Nibir', 'hobbies': 'many'}\n"
     ]
    }
   ],
   "source": [
    "d = {\"name\":\"Nibir\", \"hobbies\":\"many\"}\n",
    "\n",
    "print(d)"
   ]
  },
  {
   "cell_type": "markdown",
   "metadata": {},
   "source": [
    "Dictonaries can be \"stylised\" like this to make them more readable and clean:\n"
   ]
  },
  {
   "cell_type": "code",
   "execution_count": null,
   "metadata": {},
   "outputs": [],
   "source": [
    "d = {\n",
    "    \"name\":\"Nibir\", \n",
    "    \"hobbies\":\"many\"\n",
    "}"
   ]
  },
  {
   "cell_type": "markdown",
   "metadata": {},
   "source": [
    "## Indices\n",
    "In Data Structures, each element inside them has a specific \"address\". This address is called the **\"index\"**.\n",
    "This index then can be used for `print()` and other methods.\n",
    "\n",
    "This index **starts from 0**. That means, the first element will have an index of 0, the second of 1, etc.\n",
    "\n",
    "```\n",
    "['a', 'b', 'c']\n",
    "  ^    ^    ^\n",
    "  0    1    2\n",
    "```\n",
    "\n",
    "You can call the element by `variable[index]`\n",
    "\n",
    "### Examples:"
   ]
  },
  {
   "cell_type": "code",
   "execution_count": 4,
   "metadata": {},
   "outputs": [
    {
     "name": "stdout",
     "output_type": "stream",
     "text": [
      "rohit\n"
     ]
    }
   ],
   "source": [
    "l = [\"nibir\", \"rohit\", \"pranoy\"] # defining a list\n",
    "\n",
    "print( l[1] ) # print the 2nd element"
   ]
  },
  {
   "cell_type": "code",
   "execution_count": 14,
   "metadata": {},
   "outputs": [
    {
     "name": "stdout",
     "output_type": "stream",
     "text": [
      "Tony Stark\n"
     ]
    }
   ],
   "source": [
    "d = {\n",
    "    \"Iron Man\":\"Tony Stark\", \n",
    "    \"Cap. America\":\"Steve Rogers\"\n",
    "} # defining a dictionary\n",
    "\n",
    "print( d[\"Iron Man\"] ) # print the 2nd element, that is, \"Iron Man\""
   ]
  },
  {
   "cell_type": "markdown",
   "metadata": {},
   "source": [
    "## Functions for Mutable Objects\n",
    "The mutable data structures, Lists and Dictionaries, share similar functions and methods that you can use to add or remove elements, append, clear, etc.\n",
    "\n",
    "But some are specific for lists and dictionaries."
   ]
  },
  {
   "cell_type": "markdown",
   "metadata": {},
   "source": [
    "### Functions for Lists"
   ]
  },
  {
   "cell_type": "markdown",
   "metadata": {},
   "source": [
    "#### max, min\n",
    "`max()` and `min()` functions return the largest and smallest values respectively **if they contain the same data-type**. That is, the elements must ALL be either `float`, `int`, or `string`.\n",
    "\n",
    "**Note:**\n",
    ">If you give it a `string` list, the largest and smallest will be based on the alphabetical order. That is, smallest will be closer to `a`  and largest will be closer to `z`."
   ]
  },
  {
   "cell_type": "code",
   "execution_count": 25,
   "metadata": {},
   "outputs": [
    {
     "name": "stdout",
     "output_type": "stream",
     "text": [
      "1\n",
      "420\n",
      "america\n",
      "trump\n"
     ]
    }
   ],
   "source": [
    "int_list = [1, 4, 69, 420] \n",
    "string_list = [\"bruh\", \"not bruh\", \"america\", \"trump\"]\n",
    "\n",
    "print(min(int_list)) # print smallest: will print 1\n",
    "print(max(int_list)) # print largest: will print 420\n",
    "\n",
    "print(min(string_list)) # print smallest: will print \"america\"\n",
    "print(max(string_list)) # print largest: will print \"trump\"\n"
   ]
  },
  {
   "cell_type": "markdown",
   "metadata": {},
   "source": [
    "#### sum\n",
    "The `sum()` function is used to find the sum of all the values of a list.\n",
    "\n",
    "**Note:** You cannot do this for lists with `strings`."
   ]
  },
  {
   "cell_type": "code",
   "execution_count": 28,
   "metadata": {},
   "outputs": [
    {
     "name": "stdout",
     "output_type": "stream",
     "text": [
      "494\n"
     ]
    },
    {
     "ename": "TypeError",
     "evalue": "unsupported operand type(s) for +: 'int' and 'str'",
     "output_type": "error",
     "traceback": [
      "\u001b[0;31m---------------------------------------------------------------------------\u001b[0m",
      "\u001b[0;31mTypeError\u001b[0m                                 Traceback (most recent call last)",
      "Cell \u001b[0;32mIn[28], line 3\u001b[0m\n\u001b[1;32m      1\u001b[0m \u001b[38;5;28mprint\u001b[39m(\u001b[38;5;28msum\u001b[39m(int_list)) \u001b[38;5;66;03m# sum the values in the previous int_list\u001b[39;00m\n\u001b[0;32m----> 3\u001b[0m \u001b[38;5;28mprint\u001b[39m(\u001b[38;5;28;43msum\u001b[39;49m\u001b[43m(\u001b[49m\u001b[43mstring_list\u001b[49m\u001b[43m)\u001b[49m) \u001b[38;5;66;03m# will return an error\u001b[39;00m\n",
      "\u001b[0;31mTypeError\u001b[0m: unsupported operand type(s) for +: 'int' and 'str'"
     ]
    }
   ],
   "source": [
    "print(sum(int_list)) # sum the values in the previous int_list\n",
    "\n",
    "print(sum(string_list)) # will return an error\n"
   ]
  }
 ],
 "metadata": {
  "kernelspec": {
   "display_name": "Python 3",
   "language": "python",
   "name": "python3"
  },
  "language_info": {
   "codemirror_mode": {
    "name": "ipython",
    "version": 3
   },
   "file_extension": ".py",
   "mimetype": "text/x-python",
   "name": "python",
   "nbconvert_exporter": "python",
   "pygments_lexer": "ipython3",
   "version": "3.12.7"
  }
 },
 "nbformat": 4,
 "nbformat_minor": 2
}
