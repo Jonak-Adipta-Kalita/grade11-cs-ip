{
 "cells": [
  {
   "cell_type": "markdown",
   "metadata": {},
   "source": [
    "### Prep for Unit Test-I\n",
    "\n",
    "23-September-2024.\n",
    "\n",
    "Using this notebook to prep/check/test for concepts.\n",
    "\n",
    "---"
   ]
  },
  {
   "cell_type": "markdown",
   "metadata": {},
   "source": [
    "#### Range Check"
   ]
  },
  {
   "cell_type": "code",
   "execution_count": 14,
   "metadata": {},
   "outputs": [
    {
     "name": "stdout",
     "output_type": "stream",
     "text": [
      "0\n",
      "1\n",
      "2\n",
      "3\n"
     ]
    }
   ],
   "source": [
    "for i in range(0, 4):\n",
    "    print(i)"
   ]
  },
  {
   "cell_type": "markdown",
   "metadata": {},
   "source": [
    "The `range` function outputs stuff from `x` to `y-1` where `range (x, y)`.\n",
    "\n",
    "You can bypass that by incrementing the placeholder variable `i` by `1`.\n",
    "\n",
    "---"
   ]
  },
  {
   "cell_type": "markdown",
   "metadata": {},
   "source": [
    "#### Printing outside loop"
   ]
  },
  {
   "cell_type": "code",
   "execution_count": 15,
   "metadata": {},
   "outputs": [
    {
     "name": "stdout",
     "output_type": "stream",
     "text": [
      "16\n"
     ]
    }
   ],
   "source": [
    "for i in range(len([0,2,3,4,5])):\n",
    "    i = i**2\n",
    "print(i) # <- check indentation"
   ]
  },
  {
   "cell_type": "markdown",
   "metadata": {},
   "source": [
    "If you a print the variable _after_ the for loop runs, it will pick the **last output** the for loop has given.\n",
    "\n",
    "---"
   ]
  },
  {
   "cell_type": "markdown",
   "metadata": {},
   "source": [
    "#### Problem Statement\n",
    "\n",
    "Write a python program which reads string from user and count the number of vowels present in it."
   ]
  },
  {
   "cell_type": "code",
   "execution_count": 48,
   "metadata": {},
   "outputs": [
    {
     "name": "stdout",
     "output_type": "stream",
     "text": [
      "Vowels: 5\n"
     ]
    }
   ],
   "source": [
    "vowels = ['a', 'e', 'i', 'o', 'u']\n",
    "\n",
    "# inp = \"bazooka dick fucker cunt\"\n",
    "\n",
    "v = 0\n",
    "for i in input(\"bazooka? \"):\n",
    "    if i in vowels:\n",
    "        v += 1\n",
    "print(\"Vowels:\", v)"
   ]
  },
  {
   "cell_type": "markdown",
   "metadata": {},
   "source": [
    "##### How this works:\n",
    "\n",
    "1. specify the vowels in a list\n",
    "2. add a string (or ask for input)\n",
    "3. specify var which stores the no. of vowels\n",
    "4. run the string through a for loop\n",
    "5. if `i` in `vowels` (the list), then increment the vowel-storing-variable.\n",
    "6. print the vowels *after* the loop as finished (the last output.)\n",
    "\n",
    "---"
   ]
  }
 ],
 "metadata": {
  "kernelspec": {
   "display_name": "Python 3",
   "language": "python",
   "name": "python3"
  },
  "language_info": {
   "codemirror_mode": {
    "name": "ipython",
    "version": 3
   },
   "file_extension": ".py",
   "mimetype": "text/x-python",
   "name": "python",
   "nbconvert_exporter": "python",
   "pygments_lexer": "ipython3",
   "version": "3.12.6"
  }
 },
 "nbformat": 4,
 "nbformat_minor": 2
}
